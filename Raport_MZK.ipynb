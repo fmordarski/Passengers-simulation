{
 "cells": [
  {
   "cell_type": "code",
   "execution_count": 42,
   "metadata": {},
   "outputs": [],
   "source": [
    "import numpy as np\n",
    "import numpy.random as random\n",
    "import random as r\n",
    "from collections import OrderedDict"
   ]
  },
  {
   "cell_type": "code",
   "execution_count": 5,
   "metadata": {},
   "outputs": [],
   "source": [
    "stops_1 = [\"Służew\", \"Wierzbno\", \"Pole Mokotowskie\", \"Dworzec\", \"Rondo ONZ\"]\n",
    "stops_2 = list(reversed(stops_1))"
   ]
  },
  {
   "cell_type": "code",
   "execution_count": 19,
   "metadata": {},
   "outputs": [],
   "source": [
    "passengers_first = {}\n",
    "for hour in range(25):\n",
    "    passengers_first[hour] = {}\n",
    "    for stop in stops_1:\n",
    "        if stop != \"Rondo ONZ\":\n",
    "            if stop == \"Dworzec\":\n",
    "                number_passengers_in = random.gamma(6, 2, size=2000).round(0)\n",
    "                number_passengers_in = number_passengers_in[(number_passengers_in >=0) & \\\n",
    "                                                            (number_passengers_in <=24)]\n",
    "                number_passengers_out = random.gamma(6, 2, size=2000).round(0)\n",
    "                number_passengers_out = number_passengers_out[(number_passengers_out >=0) & \\\n",
    "                                                              (number_passengers_out <=24)]\n",
    "            else: \n",
    "                number_passengers_in = random.gamma(9, 1, size=1000).round(0).clip(0, 24)\n",
    "                number_passengers_out = random.gamma(9, 1, size=400).round(0).clip(0, 24)\n",
    "            passengers_first[hour][stop] = {}\n",
    "            passengers_first[hour][stop][\"in\"] = len(number_passengers_in[number_passengers_in == hour])\n",
    "            if stop != \"Służew\":\n",
    "                passengers_first[hour][stop][\"out\"] = len(number_passengers_out\\\n",
    "                                                          [number_passengers_out == hour])\n",
    "                "
   ]
  },
  {
   "cell_type": "code",
   "execution_count": 23,
   "metadata": {},
   "outputs": [],
   "source": [
    "passengers_second = {}\n",
    "for hour in range(25):\n",
    "    passengers_second[hour] = {}\n",
    "    for stop in stops_2:\n",
    "        if stop != \"Służew\":\n",
    "            if stop == \"Dworzec\":\n",
    "                number_passengers_in = random.gamma(6, 2, size=2000).round(0)\n",
    "                number_passengers_in = number_passengers_in[(number_passengers_in >=0) & \\\n",
    "                                                            (number_passengers_in <=24)]\n",
    "                number_passengers_out = random.gamma(6, 2, size=2000).round(0)\n",
    "                number_passengers_out = number_passengers_out[(number_passengers_out >=0) & \\\n",
    "                                                              (number_passengers_out <=24)]\n",
    "            elif stop == \"Rondo ONZ\": \n",
    "                number_passengers_in = random.gamma(8, 1, size=3000).round(0).clip(0, 24)\n",
    "                number_passengers_in = np.array([24-value for value in number_passengers_in])\n",
    "            else :\n",
    "                number_passengers_in = random.gamma(9, 1, size=400).round(0).clip(0, 24)\n",
    "                number_passengers_in = np.array([24-value for value in number_passengers_in])\n",
    "            number_passengers_out = random.gamma(9, 1, size=1000).round(0).clip(0, 24)\n",
    "            number_passengers_out = np.array([24-value for value in number_passengers_out])\n",
    "            passengers_second[hour][stop] = {}\n",
    "            passengers_second[hour][stop][\"in\"] = len(number_passengers_in[number_passengers_in == hour])\n",
    "            if stop != \"Rondo ONZ\":\n",
    "                passengers_second[hour][stop][\"out\"] = len(number_passengers_out\\\n",
    "                                                          [number_passengers_out == hour])\n"
   ]
  },
  {
   "cell_type": "code",
   "execution_count": 108,
   "metadata": {},
   "outputs": [],
   "source": [
    "def random_times(n, num_terms = None):\n",
    "    output = []\n",
    "    mean = n/num_terms\n",
    "    for time in range(num_terms):\n",
    "        if time+1 == num_terms:\n",
    "            output.append(n - sum(output))\n",
    "        else:\n",
    "            output.append(round(random.normal(mean, mean*0.1), 0))\n",
    "    return output"
   ]
  },
  {
   "cell_type": "code",
   "execution_count": 109,
   "metadata": {},
   "outputs": [],
   "source": [
    "def model(hour, stats, buses):\n",
    "    specific_hour = stats[hour]\n",
    "    differences_min = round(60/buses, 0)\n",
    "    timetable = [f\"{hour}:{0+int(differences_min*(i))}\" for i in range(buses)]\n",
    "    timetable_pass = dict.fromkeys(timetable)\n",
    "    for time in timetable:\n",
    "        timetable_pass[time] = {}\n",
    "        for key in specific_hour.keys():\n",
    "            timetable_pass[time][key] = {}\n",
    "    for key, value in specific_hour.items():\n",
    "        passengers_in = random_times(value['in'], buses)\n",
    "        if 'out' in value:\n",
    "            passengers_out = random_times(value['out'], buses)\n",
    "        for time in timetable:\n",
    "            timetable_pass[time][key]['in'] = passengers_in[list(timetable_pass.keys()).index(time)]\n",
    "            if 'out' in value:\n",
    "                timetable_pass[time][key]['out'] = passengers_out[list(timetable_pass.keys()).index(time)]\n",
    "    return timetable_pass"
   ]
  },
  {
   "cell_type": "code",
   "execution_count": 110,
   "metadata": {},
   "outputs": [
    {
     "data": {
      "text/plain": [
       "{'8:0': {'Służew': {'in': 32.0},\n",
       "  'Wierzbno': {'in': 25.0, 'out': 12.0},\n",
       "  'Pole Mokotowskie': {'in': 29.0, 'out': 10.0},\n",
       "  'Dworzec': {'in': 33.0, 'out': 31.0}},\n",
       " '8:12': {'Służew': {'in': 28.0},\n",
       "  'Wierzbno': {'in': 22.0, 'out': 10.0},\n",
       "  'Pole Mokotowskie': {'in': 30.0, 'out': 9.0},\n",
       "  'Dworzec': {'in': 38.0, 'out': 28.0}},\n",
       " '8:24': {'Służew': {'in': 32.0},\n",
       "  'Wierzbno': {'in': 24.0, 'out': 11.0},\n",
       "  'Pole Mokotowskie': {'in': 27.0, 'out': 12.0},\n",
       "  'Dworzec': {'in': 33.0, 'out': 32.0}},\n",
       " '8:36': {'Służew': {'in': 27.0},\n",
       "  'Wierzbno': {'in': 26.0, 'out': 11.0},\n",
       "  'Pole Mokotowskie': {'in': 27.0, 'out': 10.0},\n",
       "  'Dworzec': {'in': 30.0, 'out': 33.0}},\n",
       " '8:48': {'Służew': {'in': 24.0},\n",
       "  'Wierzbno': {'in': 33.0, 'out': 14.0},\n",
       "  'Pole Mokotowskie': {'in': 26.0, 'out': 14.0},\n",
       "  'Dworzec': {'in': 37.0, 'out': 31.0}}}"
      ]
     },
     "execution_count": 110,
     "metadata": {},
     "output_type": "execute_result"
    }
   ],
   "source": [
    "model(8, passengers_first, 5)"
   ]
  }
 ],
 "metadata": {
  "kernelspec": {
   "display_name": "Python 3",
   "language": "python",
   "name": "python3"
  },
  "language_info": {
   "codemirror_mode": {
    "name": "ipython",
    "version": 3
   },
   "file_extension": ".py",
   "mimetype": "text/x-python",
   "name": "python",
   "nbconvert_exporter": "python",
   "pygments_lexer": "ipython3",
   "version": "3.6.5"
  }
 },
 "nbformat": 4,
 "nbformat_minor": 4
}
