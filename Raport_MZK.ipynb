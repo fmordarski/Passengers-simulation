{
 "cells": [
  {
   "cell_type": "code",
   "execution_count": 182,
   "metadata": {},
   "outputs": [],
   "source": [
    "import numpy as np\n",
    "import numpy.random as random\n",
    "from collections import OrderedDict"
   ]
  },
  {
   "cell_type": "code",
   "execution_count": 183,
   "metadata": {},
   "outputs": [],
   "source": [
    "stops = [\"Służew\", \"Wierzbno\", \"Pole Mokotowskie\", \"Dworzec\", \"Rondo ONZ\"]"
   ]
  },
  {
   "cell_type": "code",
   "execution_count": 184,
   "metadata": {},
   "outputs": [],
   "source": [
    "passengers_first = {}\n",
    "for stop in stops:\n",
    "    if stop != \"Rondo ONZ\":\n",
    "        passengers_first[stop] = {}\n",
    "        if stop == \"Dworzec\":\n",
    "            number_passengers_in = random.gamma(6, 2, size=2000).round(0)\n",
    "            number_passengers_in = number_passengers_in[(number_passengers_in >=0) & \\\n",
    "                                                        (number_passengers_in <=24)]\n",
    "            number_passengers_out = random.gamma(6, 2, size=2000).round(0)\n",
    "            number_passengers_out = number_passengers_out[(number_passengers_out >=0) & \\\n",
    "                                                          (number_passengers_out <=24)]\n",
    "        else: \n",
    "            number_passengers_in = random.gamma(9, 1, size=1000).round(0).clip(0, 24)\n",
    "            number_passengers_out = random.gamma(9, 1, size=400).round(0).clip(0, 24)\n",
    "        for hour in range(25):  \n",
    "            passengers_first[stop][hour] = {}\n",
    "            passengers_first[stop][hour][\"in\"] = len(number_passengers_in[number_passengers_in == hour])\n",
    "            if stop != \"Służew\":\n",
    "                passengers_first[stop][hour][\"out\"] = len(number_passengers_out\\\n",
    "                                                          [number_passengers_out == hour])\n",
    "                "
   ]
  },
  {
   "cell_type": "code",
   "execution_count": 185,
   "metadata": {},
   "outputs": [],
   "source": [
    "passengers_second = {}\n",
    "for stop in stops:\n",
    "    if stop != \"Służew\":\n",
    "        passengers_second[stop] = {}\n",
    "        if stop == \"Dworzec\":\n",
    "            number_passengers_in = random.gamma(6, 2, size=2000).round(0)\n",
    "            number_passengers_in = number_passengers_in[(number_passengers_in >=0) & \\\n",
    "                                                        (number_passengers_in <=24)]\n",
    "            number_passengers_out = random.gamma(6, 2, size=2000).round(0)\n",
    "            number_passengers_out = number_passengers_out[(number_passengers_out >=0) & \\\n",
    "                                                          (number_passengers_out <=24)]\n",
    "        elif stop == \"Rondo ONZ\": \n",
    "            number_passengers_in = random.gamma(8, 1, size=3000).round(0).clip(0, 24)\n",
    "            number_passengers_in = np.array([24-value for value in number_passengers_in])\n",
    "        else :\n",
    "            number_passengers_in = random.gamma(9, 1, size=400).round(0).clip(0, 24)\n",
    "            number_passengers_in = np.array([24-value for value in number_passengers_in])\n",
    "        number_passengers_out = random.gamma(9, 1, size=1000).round(0).clip(0, 24)\n",
    "        number_passengers_out = np.array([24-value for value in number_passengers_out])\n",
    "        for hour in range(25):  \n",
    "            passengers_second[stop][hour] = {}\n",
    "            passengers_second[stop][hour][\"in\"] = len(number_passengers_in[number_passengers_in == hour])\n",
    "            if stop != \"Rondo ONZ\":\n",
    "                passengers_second[stop][hour][\"out\"] = len(number_passengers_out\\\n",
    "                                                          [number_passengers_out == hour])\n",
    "                "
   ]
  },
  {
   "cell_type": "code",
   "execution_count": 200,
   "metadata": {},
   "outputs": [],
   "source": [
    "def model(hour, stats):\n",
    "    all_pass = 0\n",
    "    for key, value in stats.items():\n",
    "        if 'out' in value[hour]:\n",
    "            all_pass -= value[hour]['out']\n",
    "        all_pass += value[hour]['in']\n",
    "        print(f\"Autobus ma na przystanku: {key}, o godzinie {hour} {all_pass} pasażerów \\n\")\n",
    "    return all_pass"
   ]
  },
  {
   "cell_type": "code",
   "execution_count": 205,
   "metadata": {},
   "outputs": [
    {
     "name": "stdout",
     "output_type": "stream",
     "text": [
      "Autobus ma na przystanku: Służew, o godzinie 8 111 pasażerów \n",
      "\n",
      "Autobus ma na przystanku: Wierzbno, o godzinie 8 184 pasażerów \n",
      "\n",
      "Autobus ma na przystanku: Pole Mokotowskie, o godzinie 8 263 pasażerów \n",
      "\n",
      "Autobus ma na przystanku: Dworzec, o godzinie 8 267 pasażerów \n",
      "\n"
     ]
    },
    {
     "data": {
      "text/plain": [
       "267"
      ]
     },
     "execution_count": 205,
     "metadata": {},
     "output_type": "execute_result"
    }
   ],
   "source": [
    "model(8, passengers_first)"
   ]
  },
  {
   "cell_type": "code",
   "execution_count": 213,
   "metadata": {},
   "outputs": [
    {
     "name": "stdout",
     "output_type": "stream",
     "text": [
      "Autobus ma na przystanku: Rondo ONZ, o godzinie 23 0 pasażerów \n",
      "\n",
      "Autobus ma na przystanku: Dworzec, o godzinie 23 13 pasażerów \n",
      "\n",
      "Autobus ma na przystanku: Pole Mokotowskie, o godzinie 23 13 pasażerów \n",
      "\n",
      "Autobus ma na przystanku: Wierzbno, o godzinie 23 13 pasażerów \n",
      "\n"
     ]
    },
    {
     "data": {
      "text/plain": [
       "13"
      ]
     },
     "execution_count": 213,
     "metadata": {},
     "output_type": "execute_result"
    }
   ],
   "source": [
    "model(23, OrderedDict(reversed(passengers_second.items())))"
   ]
  }
 ],
 "metadata": {
  "kernelspec": {
   "display_name": "Python 3",
   "language": "python",
   "name": "python3"
  },
  "language_info": {
   "codemirror_mode": {
    "name": "ipython",
    "version": 3
   },
   "file_extension": ".py",
   "mimetype": "text/x-python",
   "name": "python",
   "nbconvert_exporter": "python",
   "pygments_lexer": "ipython3",
   "version": "3.8.3"
  }
 },
 "nbformat": 4,
 "nbformat_minor": 4
}
