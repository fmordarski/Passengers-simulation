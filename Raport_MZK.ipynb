{
 "cells": [
  {
   "cell_type": "code",
   "execution_count": 1,
   "metadata": {},
   "outputs": [],
   "source": [
    "import numpy as np\n",
    "import numpy.random as random\n",
    "import random as r\n",
    "from collections import OrderedDict"
   ]
  },
  {
   "cell_type": "code",
   "execution_count": 3,
   "metadata": {},
   "outputs": [],
   "source": [
    "stops = [\"Służew\", \"Wierzbno\", \"Pole Mokotowskie\", \"Dworzec\", \"Rondo ONZ\", \n",
    "           \"Dworzec\", \"Pole Mokotowskie_2\", \"Wierzbno_2\", \"Służew_2\"]"
   ]
  },
  {
   "cell_type": "code",
   "execution_count": 5,
   "metadata": {},
   "outputs": [],
   "source": [
    "passengers = {}\n",
    "for hour in range(25):\n",
    "    passengers[hour] = {}\n",
    "for stop in stops:\n",
    "    if stop != \"Służew_2\":\n",
    "        if stop == \"Dworzec\":\n",
    "            number_passengers_in = random.gamma(6, 2, size=2000).round(0)\n",
    "            number_passengers_in = number_passengers_in[(number_passengers_in >=0) & \\\n",
    "                                                        (number_passengers_in <=24)]\n",
    "            number_passengers_out = random.gamma(6, 2, size=2000).round(0)\n",
    "            number_passengers_out = number_passengers_out[(number_passengers_out >=0) & \\\n",
    "                                                          (number_passengers_out <=24)]\n",
    "        elif '2' in stop:\n",
    "            number_passengers_in = random.gamma(9, 1, size=400).round(0).clip(0, 24)\n",
    "            number_passengers_in = np.array([24-value for value in number_passengers_in])\n",
    "            number_passengers_out = random.gamma(9, 1, size=1000).round(0).clip(0, 24)\n",
    "            number_passengers_out = np.array([24-value for value in number_passengers_out])\n",
    "        elif stop == \"Rondo ONZ\": \n",
    "            number_passengers_in = random.gamma(8, 1, size=3000).round(0).clip(0, 24)\n",
    "            number_passengers_in = np.array([24-value for value in number_passengers_in])\n",
    "        else: \n",
    "            number_passengers_in = random.gamma(9, 1, size=1000).round(0).clip(0, 24)\n",
    "            number_passengers_out = random.gamma(9, 1, size=400).round(0).clip(0, 24)\n",
    "        for hour in range(25):\n",
    "            passengers[hour][stop] = {}\n",
    "            passengers[hour][stop][\"in\"] = len(number_passengers_in[number_passengers_in == hour])\n",
    "            if stop not in [\"Służew\", \"Służew_2\", \"Rondo ONZ\"]:\n",
    "                passengers[hour][stop][\"out\"] = len(number_passengers_out\\\n",
    "                                                          [number_passengers_out == hour])\n",
    "                "
   ]
  },
  {
   "cell_type": "code",
   "execution_count": 9,
   "metadata": {},
   "outputs": [],
   "source": [
    "def model(hour, stats):\n",
    "    all_pass = 0\n",
    "    stats_hour = stats[hour]\n",
    "    for key, value in stats_hour.items():\n",
    "        if key == 'Rondo ONZ':\n",
    "            all_pass = 0\n",
    "        if 'out' in value:\n",
    "            all_pass -= value['out']\n",
    "            all_pass = max(0, all_pass)\n",
    "        all_pass += value['in']\n",
    "        print(f\"Autobus ma na przystanku: {key}, o godzinie {hour} {all_pass} pasażerów \\n\")\n",
    "    return all_pass"
   ]
  },
  {
   "cell_type": "code",
   "execution_count": 11,
   "metadata": {},
   "outputs": [
    {
     "name": "stdout",
     "output_type": "stream",
     "text": [
      "Autobus ma na przystanku: Służew, o godzinie 16 12 pasażerów \n",
      "\n",
      "Autobus ma na przystanku: Wierzbno, o godzinie 16 16 pasażerów \n",
      "\n",
      "Autobus ma na przystanku: Pole Mokotowskie, o godzinie 16 28 pasażerów \n",
      "\n",
      "Autobus ma na przystanku: Dworzec, o godzinie 16 92 pasażerów \n",
      "\n",
      "Autobus ma na przystanku: Rondo ONZ, o godzinie 16 424 pasażerów \n",
      "\n",
      "Autobus ma na przystanku: Dworzec_2, o godzinie 16 343 pasażerów \n",
      "\n",
      "Autobus ma na przystanku: Pole Mokotowskie_2, o godzinie 16 276 pasażerów \n",
      "\n",
      "Autobus ma na przystanku: Wierzbno_2, o godzinie 16 209 pasażerów \n",
      "\n"
     ]
    },
    {
     "data": {
      "text/plain": [
       "209"
      ]
     },
     "execution_count": 11,
     "metadata": {},
     "output_type": "execute_result"
    }
   ],
   "source": [
    "model(16, passengers)"
   ]
  }
 ],
 "metadata": {
  "kernelspec": {
   "display_name": "Python 3",
   "language": "python",
   "name": "python3"
  },
  "language_info": {
   "codemirror_mode": {
    "name": "ipython",
    "version": 3
   },
   "file_extension": ".py",
   "mimetype": "text/x-python",
   "name": "python",
   "nbconvert_exporter": "python",
   "pygments_lexer": "ipython3",
   "version": "3.6.5"
  }
 },
 "nbformat": 4,
 "nbformat_minor": 4
}
