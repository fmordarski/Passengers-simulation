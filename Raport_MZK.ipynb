{
 "cells": [
  {
   "cell_type": "code",
   "execution_count": 210,
   "metadata": {},
   "outputs": [],
   "source": [
    "import numpy as np\n",
    "import numpy.random as random\n",
    "import random as r\n",
    "from collections import OrderedDict"
   ]
  },
  {
   "cell_type": "code",
   "execution_count": 211,
   "metadata": {},
   "outputs": [],
   "source": [
    "stops = [\"Służew\", \"Wierzbno\", \"Pole Mokotowskie\", \"Dworzec\", \"Rondo ONZ\", \n",
    "           \"Dworzec_2\", \"Pole Mokotowskie_2\", \"Wierzbno_2\", \"Służew_2\"]"
   ]
  },
  {
   "cell_type": "code",
   "execution_count": 212,
   "metadata": {},
   "outputs": [],
   "source": [
    "def simulate_passengers(cena):\n",
    "    passengers = {}\n",
    "    for hour in range(24):\n",
    "        passengers[hour] = {}\n",
    "    for stop in stops:\n",
    "        if stop != \"Służew_2\":\n",
    "            if stop == \"Dworzec\":\n",
    "                number_passengers_in = random.gamma(6, 2, size=2000).round(0)\n",
    "                number_passengers_in = number_passengers_in[(number_passengers_in >=0) & \\\n",
    "                                                            (number_passengers_in <=23)]\n",
    "                number_passengers_out = random.gamma(6, 2, size=2000).round(0)\n",
    "                number_passengers_out = number_passengers_out[(number_passengers_out >=0) & \\\n",
    "                                                              (number_passengers_out <=23)]\n",
    "            elif '2' in stop:\n",
    "                number_passengers_in = random.gamma(9, 1, size=400).round(0).clip(0, 23)\n",
    "                number_passengers_in = np.array([24-value for value in number_passengers_in])\n",
    "                number_passengers_out = random.gamma(9, 1, size=1000).round(0).clip(0, 23)\n",
    "                number_passengers_out = np.array([24-value for value in number_passengers_out])\n",
    "            elif stop == \"Rondo ONZ\": \n",
    "                number_passengers_in = random.gamma(8, 1, size=3000).round(0).clip(0, 23)\n",
    "                number_passengers_in = np.array([24-value for value in number_passengers_in])\n",
    "            else: \n",
    "                number_passengers_in = random.gamma(9, 1, size=1000).round(0).clip(0, 23)\n",
    "                number_passengers_out = random.gamma(9, 1, size=400).round(0).clip(0, 23)\n",
    "            for hour in range(24):\n",
    "                passengers[hour][stop] = {}\n",
    "                passengers[hour][stop][\"in\"] = len(number_passengers_in[number_passengers_in == hour])\n",
    "                if stop not in [\"Służew\", \"Służew_2\", \"Rondo ONZ\"]:\n",
    "                    passengers[hour][stop][\"out\"] = len(number_passengers_out\\\n",
    "                                                              [number_passengers_out == hour])\n",
    "    return passengers\n",
    "                "
   ]
  },
  {
   "cell_type": "code",
   "execution_count": 213,
   "metadata": {},
   "outputs": [],
   "source": [
    "def random_times(n, num_terms = None):\n",
    "    output = []\n",
    "    mean = n/num_terms\n",
    "    for time in range(num_terms):\n",
    "        if time+1 == num_terms:\n",
    "            output.append(n - sum(output))\n",
    "        else:\n",
    "            output.append(round(random.normal(mean, mean*0.1), 0))\n",
    "    return output"
   ]
  },
  {
   "cell_type": "code",
   "execution_count": 214,
   "metadata": {},
   "outputs": [],
   "source": [
    "def model(hour, stats, buses, capacity):\n",
    "    # filtruje słownik z liczbą pasażerów (na daną godzine)\n",
    "    stats_hour = stats[hour]\n",
    "    # inicjuję potrzebne słowniki\n",
    "    stats_stops = {}\n",
    "    bus_passengers = {}\n",
    "    for bus in range(buses):\n",
    "        bus_passengers[bus+1] = {}\n",
    "        bus_passengers[bus+1]['in'] = []\n",
    "        bus_passengers[bus+1]['out'] = []\n",
    "    # tworzę tuplę z listami wsiadających oraz wysiadających pasażerów z danego busa\n",
    "    # długość list = liczba busów\n",
    "    for key, value in stats_hour.items():\n",
    "        if 'out' in value:\n",
    "            stats_stops[key] = (random_times(value['in'], buses), random_times(value['out'], buses))\n",
    "        else:\n",
    "            stats_stops[key] = (random_times(value['in'], buses),)\n",
    "    # inicjuję finalną listę z przewiezionymi pasażerami przez konkretne busy\n",
    "    bus_output = []\n",
    "    for bus in range(buses):\n",
    "        # liczba aktualnych pasażerów w busie\n",
    "        passengers = 0\n",
    "        # liczba w sumie przewiezionych pasażerów\n",
    "        passengers_final = 0\n",
    "        for key, value in stats_stops.items():\n",
    "            bus_passengers[bus+1]['in'].append(value[0][bus])\n",
    "            if len(value) > 1:\n",
    "                bus_passengers[bus+1]['out'].append(value[1][bus])\n",
    "            else:\n",
    "                bus_passengers[bus+1]['out'].append(0)\n",
    "        for i in range(len(bus_passengers[bus+1]['in'])):\n",
    "            # i == 4 to rondo onz\n",
    "            if i == 4:\n",
    "                passengers = 0\n",
    "            else:\n",
    "                passengers -= min(bus_passengers[bus+1]['out'][i], passengers)\n",
    "            passengers_final += min(capacity-passengers, bus_passengers[bus+1]['in'][i])\n",
    "            passengers += min(capacity-passengers, bus_passengers[bus+1]['in'][i])\n",
    "        bus_output.append(passengers_final)\n",
    "    return bus_output"
   ]
  },
  {
   "cell_type": "code",
   "execution_count": 215,
   "metadata": {},
   "outputs": [],
   "source": [
    "def symulacja_init(iteration, cena_biletu, koszt_autobusu, list_buses, capacity):\n",
    "    profits = []\n",
    "    for i in range(iteration):\n",
    "        profit = 0\n",
    "        stats = simulate_passengers()\n",
    "        for hour in range(24):\n",
    "            passengers = model(hour, stats, list_buses[hour], capacity)\n",
    "            profit += sum([value*cena_biletu for value in passengers])\n",
    "            profit -= koszt_autobusu*list_buses[hour]\n",
    "        profits.append(profit)\n",
    "    return profits"
   ]
  },
  {
   "cell_type": "code",
   "execution_count": 216,
   "metadata": {},
   "outputs": [],
   "source": [
    "def symulacja(iteration, cena_biletu, koszt_autobusu, buses, capacity):\n",
    "    profits = []\n",
    "    optimum_buses = []\n",
    "    for i in range(iteration):\n",
    "        profit = 0\n",
    "        hour_bus = []\n",
    "        stats = simulate_passengers()\n",
    "        for hour in range(24):\n",
    "            hour_profit = []\n",
    "            for bus in range(1, buses+1):\n",
    "                passengers = model(hour, stats, bus, capacity)\n",
    "                profit += sum([value*cena_biletu for value in passengers])\n",
    "                profit -= koszt_autobusu*bus\n",
    "                hour_profit.append(profit)\n",
    "            hour_bus.append(hour_profit.index(max(hour_profit))+1)\n",
    "            profit = max(hour_profit)\n",
    "        profits.append(profit)\n",
    "        optimum_buses.append(hour_bus)\n",
    "    return profits, optimum_buses"
   ]
  }
 ],
 "metadata": {
  "kernelspec": {
   "display_name": "Python 3",
   "language": "python",
   "name": "python3"
  },
  "language_info": {
   "codemirror_mode": {
    "name": "ipython",
    "version": 3
   },
   "file_extension": ".py",
   "mimetype": "text/x-python",
   "name": "python",
   "nbconvert_exporter": "python",
   "pygments_lexer": "ipython3",
   "version": "3.6.5"
  }
 },
 "nbformat": 4,
 "nbformat_minor": 4
}
