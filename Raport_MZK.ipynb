{
 "cells": [
  {
   "cell_type": "code",
   "execution_count": 7,
   "metadata": {},
   "outputs": [],
   "source": [
    "import numpy\n",
    "import numpy.random as random"
   ]
  },
  {
   "cell_type": "code",
   "execution_count": 1,
   "metadata": {},
   "outputs": [],
   "source": [
    "stops = [\"Służew\", \"Wierzbno\", \"Pole Mokotowskie\", \"Dworzec\", \"Rondo ONZ\"]"
   ]
  },
  {
   "cell_type": "code",
   "execution_count": 15,
   "metadata": {},
   "outputs": [],
   "source": [
    "passengers_stats = {\"Służew\": {\"6\": {\"in\": [30, 7]}},\n",
    "                    \"Wierzbno\": {\"6\": {\"in\": [40, 5], \"out\": [6, 2]}},\n",
    "                    \"Pole Mokotowskie\": {\"6\": {\"in\": [50, 10], \"out\": [20, 4]}},\n",
    "                    \"Dworzec\": {\"6\": {\"in\": [80, 15], \"out\": [90, 10]}}}"
   ]
  },
  {
   "cell_type": "code",
   "execution_count": 53,
   "metadata": {},
   "outputs": [],
   "source": [
    "def model(hour):\n",
    "    all_pass = 0\n",
    "    for key, value in passengers_stats.items():\n",
    "        if 'out' in value[hour]:\n",
    "            all_pass -= round(random.normal(value[hour]['out'][0], \n",
    "                                            value[hour]['out'][1]), 0)\n",
    "        all_pass += round(random.normal(value[hour]['in'][0], \n",
    "                                        value[hour]['in'][1]), 0)\n",
    "    return all_pass"
   ]
  },
  {
   "cell_type": "code",
   "execution_count": 86,
   "metadata": {},
   "outputs": [
    {
     "data": {
      "text/plain": [
       "72.0"
      ]
     },
     "execution_count": 86,
     "metadata": {},
     "output_type": "execute_result"
    }
   ],
   "source": [
    "model('6')"
   ]
  }
 ],
 "metadata": {
  "kernelspec": {
   "display_name": "Python 3",
   "language": "python",
   "name": "python3"
  },
  "language_info": {
   "codemirror_mode": {
    "name": "ipython",
    "version": 3
   },
   "file_extension": ".py",
   "mimetype": "text/x-python",
   "name": "python",
   "nbconvert_exporter": "python",
   "pygments_lexer": "ipython3",
   "version": "3.8.3"
  }
 },
 "nbformat": 4,
 "nbformat_minor": 4
}
